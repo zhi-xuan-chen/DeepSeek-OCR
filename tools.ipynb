{
 "cells": [
  {
   "cell_type": "code",
   "execution_count": 2,
   "id": "fcec375c",
   "metadata": {},
   "outputs": [
    {
     "name": "stderr",
     "output_type": "stream",
     "text": [
      "You are using a model of type deepseek_vl_v2 to instantiate a model of type DeepseekOCR. This is not supported for all configurations of models and can yield errors.\n",
      "Some weights of DeepseekOCRForCausalLM were not initialized from the model checkpoint at deepseek-ai/DeepSeek-OCR and are newly initialized: ['model.vision_model.embeddings.position_ids']\n",
      "You should probably TRAIN this model on a down-stream task to be able to use it for predictions and inference.\n",
      "The attention mask and the pad token id were not set. As a consequence, you may observe unexpected behavior. Please pass your input's `attention_mask` to obtain reliable results.\n",
      "Setting `pad_token_id` to `eos_token_id`:None for open-end generation.\n"
     ]
    },
    {
     "name": "stdout",
     "output_type": "stream",
     "text": [
      "=====================\n",
      "BASE:  torch.Size([1, 256, 1280])\n",
      "PATCHES:  torch.Size([2, 100, 1280])\n",
      "=====================\n",
      "Left subclavian central venous catheter with tip in superior vena cava. No evidence for pneumothorax.\n",
      "\n",
      "Cardiopulmonary vasculature within normal limits. No significant pleural effusions. Mild left basilar opacities, may represent atelectasis.\n",
      "\n",
      "Left humeral anchor suture.\n",
      "==================================================\n",
      "image size:  (971, 475)\n",
      "valid image tokens:  325\n",
      "output texts tokens (valid):  59\n",
      "compression ratio:  0.18\n",
      "==================================================\n",
      "===============save results:===============\n"
     ]
    },
    {
     "name": "stderr",
     "output_type": "stream",
     "text": [
      "image: 0it [00:00, ?it/s]\n",
      "other: 0it [00:00, ?it/s]\n"
     ]
    }
   ],
   "source": [
    "from transformers import AutoModel, AutoTokenizer\n",
    "import torch\n",
    "import os\n",
    "os.environ[\"CUDA_VISIBLE_DEVICES\"] = '0'\n",
    "model_name = 'deepseek-ai/DeepSeek-OCR'\n",
    "\n",
    "tokenizer = AutoTokenizer.from_pretrained(model_name, trust_remote_code=True)\n",
    "model = AutoModel.from_pretrained(model_name, _attn_implementation='flash_attention_2', trust_remote_code=True, use_safetensors=True)\n",
    "model = model.eval().cuda().to(torch.bfloat16)\n",
    "\n",
    "# prompt = \"<image>\\nFree OCR. \"\n",
    "prompt = \"<image>\\nFree OCR.\"\n",
    "image_file = '/home/chenzhixuan/Workspace/DeepSeek-OCR/report.png'\n",
    "output_path = '/home/chenzhixuan/Workspace/DeepSeek-OCR'\n",
    "\n",
    "# infer(self, tokenizer, prompt='', image_file='', output_path = ' ', base_size = 1024, image_size = 640, crop_mode = True, test_compress = False, save_results = False):\n",
    "\n",
    "# Tiny: base_size = 512, image_size = 512, crop_mode = False\n",
    "# Small: base_size = 640, image_size = 640, crop_mode = False\n",
    "# Base: base_size = 1024, image_size = 1024, crop_mode = False\n",
    "# Large: base_size = 1280, image_size = 1280, crop_mode = False\n",
    "\n",
    "# Gundam: base_size = 1024, image_size = 640, crop_mode = True\n",
    "\n",
    "res = model.infer(tokenizer, prompt=prompt, image_file=image_file, output_path = output_path, base_size = 1024, image_size = 640, crop_mode=True, save_results = True, test_compress = True)\n"
   ]
  },
  {
   "cell_type": "code",
   "execution_count": null,
   "id": "b6fab512",
   "metadata": {},
   "outputs": [],
   "source": []
  }
 ],
 "metadata": {
  "kernelspec": {
   "display_name": "deepseek-ocr",
   "language": "python",
   "name": "python3"
  },
  "language_info": {
   "codemirror_mode": {
    "name": "ipython",
    "version": 3
   },
   "file_extension": ".py",
   "mimetype": "text/x-python",
   "name": "python",
   "nbconvert_exporter": "python",
   "pygments_lexer": "ipython3",
   "version": "3.12.9"
  }
 },
 "nbformat": 4,
 "nbformat_minor": 5
}
